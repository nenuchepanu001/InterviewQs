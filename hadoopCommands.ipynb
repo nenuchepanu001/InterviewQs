{
  "nbformat": 4,
  "nbformat_minor": 0,
  "metadata": {
    "colab": {
      "provenance": [],
      "authorship_tag": "ABX9TyPpHEhxRgZK0tp9ziZeabCw",
      "include_colab_link": true
    },
    "kernelspec": {
      "name": "python3",
      "display_name": "Python 3"
    },
    "language_info": {
      "name": "python"
    }
  },
  "cells": [
    {
      "cell_type": "markdown",
      "metadata": {
        "id": "view-in-github",
        "colab_type": "text"
      },
      "source": [
        "<a href=\"https://colab.research.google.com/github/nenuchepanu001/InterviewQs/blob/main/hadoopCommands.ipynb\" target=\"_parent\"><img src=\"https://colab.research.google.com/assets/colab-badge.svg\" alt=\"Open In Colab\"/></a>"
      ]
    },
    {
      "cell_type": "code",
      "execution_count": null,
      "metadata": {
        "id": "IN9L7UvhTzmM"
      },
      "outputs": [],
      "source": []
    },
    {
      "cell_type": "markdown",
      "source": [
        "    pwd  : to get present working directory\n",
        "      -bash-4.2$ pwd\n",
        "        /home/nenuchepanu0016389\n",
        "    ls   : to list files and folders\n",
        "      -bash-4.2$ ls\n",
        "        cloudxlab_jupyter_notebooks\n",
        "\n",
        "    ll   : for detailed long listing of files/folders\n",
        "    mkdir: To Create a directory/folder\n",
        "    cd   : go inside the directory\n",
        "    cd ..: come a step before the directory\n",
        "    touch: to create a file\n",
        "    rm   : command to remove a file\n",
        "    rm -rf: non empty file\n",
        "    rmdir: to remove empty directory\n",
        "\n",
        "    vi   : to open a file\n",
        "          File opens in Escape mode\n",
        "          to edit we need to press I\n",
        "          I  : to go Insert mode\n",
        "          To Save comeback to escapemode by pressing Esc then use :wq!\n",
        "          :wq! - gives write and quit\n",
        "\n",
        "    cat  : To read the content of the  file\n",
        "\n",
        "    Hadoop command:\n",
        "    use hadoop fs infront of the commands like\n",
        "    hadoop fs -ls /user/cloudera/\n",
        "    (or)\n",
        "    hdfs dfs -ls /user/cloudera/\n",
        "\n",
        "    to create directory in hdfs:\n",
        "    hdfs dfs -mkdir /user/nenuchepanu0016389/tardir\n",
        "\n",
        "    put data from edgenode to hdfs:\n",
        "    hdfs dfs -put /home/nenuchepanu0016389/srcdir/zeyofile /user/nenuchepanu0016389/tardir\n",
        "\n",
        "    to get data from hdfs to edgenode:\n",
        "    hdfs dfs -get /user/nenuchepanu0016389/tardir/zeyofile /home/nenuchepanu0016389/srcdir\n",
        "\n",
        "    to deserialize data:\n",
        "    hadoop fs -text <filename>\n",
        "\n",
        "    remove nonempty directory:\n",
        "    hadoop fs -rm -r\n",
        "\n",
        "    to create recursive directory:\n",
        "    hadoop fs -mkdir -p a/b\n",
        "\n",
        "\n",
        "\n",
        "\n",
        "\n",
        "\n",
        "\n",
        "\n",
        "\n",
        "\n",
        "\n",
        "\n",
        "\n",
        "    "
      ],
      "metadata": {
        "id": "iUd-Tv4RT1pi"
      }
    }
  ]
}